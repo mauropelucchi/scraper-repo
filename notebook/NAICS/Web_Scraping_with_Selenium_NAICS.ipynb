{
  "nbformat": 4,
  "nbformat_minor": 0,
  "metadata": {
    "colab": {
      "name": "Web_Scraping_with_Selenium_NAICS.ipynb",
      "provenance": [],
      "collapsed_sections": []
    },
    "kernelspec": {
      "name": "python3",
      "display_name": "Python 3"
    },
    "widgets": {
      "application/vnd.jupyter.widget-state+json": {
        "5e4a71b882a44772a67829f175ed4e09": {
          "model_module": "@jupyter-widgets/controls",
          "model_name": "HBoxModel",
          "state": {
            "_view_name": "HBoxView",
            "_dom_classes": [],
            "_model_name": "HBoxModel",
            "_view_module": "@jupyter-widgets/controls",
            "_model_module_version": "1.5.0",
            "_view_count": null,
            "_view_module_version": "1.5.0",
            "box_style": "",
            "layout": "IPY_MODEL_142a5719b0d04bc9a6a80ad9eb8c77a7",
            "_model_module": "@jupyter-widgets/controls",
            "children": [
              "IPY_MODEL_d63220b564f34aea9f262505d10ba8b8",
              "IPY_MODEL_1f7d1fb2e85348aebd96732d56ed301b"
            ]
          }
        },
        "142a5719b0d04bc9a6a80ad9eb8c77a7": {
          "model_module": "@jupyter-widgets/base",
          "model_name": "LayoutModel",
          "state": {
            "_view_name": "LayoutView",
            "grid_template_rows": null,
            "right": null,
            "justify_content": null,
            "_view_module": "@jupyter-widgets/base",
            "overflow": null,
            "_model_module_version": "1.2.0",
            "_view_count": null,
            "flex_flow": null,
            "width": null,
            "min_width": null,
            "border": null,
            "align_items": null,
            "bottom": null,
            "_model_module": "@jupyter-widgets/base",
            "top": null,
            "grid_column": null,
            "overflow_y": null,
            "overflow_x": null,
            "grid_auto_flow": null,
            "grid_area": null,
            "grid_template_columns": null,
            "flex": null,
            "_model_name": "LayoutModel",
            "justify_items": null,
            "grid_row": null,
            "max_height": null,
            "align_content": null,
            "visibility": null,
            "align_self": null,
            "height": null,
            "min_height": null,
            "padding": null,
            "grid_auto_rows": null,
            "grid_gap": null,
            "max_width": null,
            "order": null,
            "_view_module_version": "1.2.0",
            "grid_template_areas": null,
            "object_position": null,
            "object_fit": null,
            "grid_auto_columns": null,
            "margin": null,
            "display": null,
            "left": null
          }
        },
        "d63220b564f34aea9f262505d10ba8b8": {
          "model_module": "@jupyter-widgets/controls",
          "model_name": "FloatProgressModel",
          "state": {
            "_view_name": "ProgressView",
            "style": "IPY_MODEL_969c8affed2c41d387073c7057b5900c",
            "_dom_classes": [],
            "description": "100%",
            "_model_name": "FloatProgressModel",
            "bar_style": "success",
            "max": 1057,
            "_view_module": "@jupyter-widgets/controls",
            "_model_module_version": "1.5.0",
            "value": 1057,
            "_view_count": null,
            "_view_module_version": "1.5.0",
            "orientation": "horizontal",
            "min": 0,
            "description_tooltip": null,
            "_model_module": "@jupyter-widgets/controls",
            "layout": "IPY_MODEL_8725b7404d6a4b51a021272723a699ec"
          }
        },
        "1f7d1fb2e85348aebd96732d56ed301b": {
          "model_module": "@jupyter-widgets/controls",
          "model_name": "HTMLModel",
          "state": {
            "_view_name": "HTMLView",
            "style": "IPY_MODEL_4a2596dfa9044053bd4d10cea0f67dd9",
            "_dom_classes": [],
            "description": "",
            "_model_name": "HTMLModel",
            "placeholder": "​",
            "_view_module": "@jupyter-widgets/controls",
            "_model_module_version": "1.5.0",
            "value": " 1057/1057 [15:22&lt;00:00,  1.15it/s]",
            "_view_count": null,
            "_view_module_version": "1.5.0",
            "description_tooltip": null,
            "_model_module": "@jupyter-widgets/controls",
            "layout": "IPY_MODEL_ed76d6a726354f35b43de3ca98d571e0"
          }
        },
        "969c8affed2c41d387073c7057b5900c": {
          "model_module": "@jupyter-widgets/controls",
          "model_name": "ProgressStyleModel",
          "state": {
            "_view_name": "StyleView",
            "_model_name": "ProgressStyleModel",
            "description_width": "initial",
            "_view_module": "@jupyter-widgets/base",
            "_model_module_version": "1.5.0",
            "_view_count": null,
            "_view_module_version": "1.2.0",
            "bar_color": null,
            "_model_module": "@jupyter-widgets/controls"
          }
        },
        "8725b7404d6a4b51a021272723a699ec": {
          "model_module": "@jupyter-widgets/base",
          "model_name": "LayoutModel",
          "state": {
            "_view_name": "LayoutView",
            "grid_template_rows": null,
            "right": null,
            "justify_content": null,
            "_view_module": "@jupyter-widgets/base",
            "overflow": null,
            "_model_module_version": "1.2.0",
            "_view_count": null,
            "flex_flow": null,
            "width": null,
            "min_width": null,
            "border": null,
            "align_items": null,
            "bottom": null,
            "_model_module": "@jupyter-widgets/base",
            "top": null,
            "grid_column": null,
            "overflow_y": null,
            "overflow_x": null,
            "grid_auto_flow": null,
            "grid_area": null,
            "grid_template_columns": null,
            "flex": null,
            "_model_name": "LayoutModel",
            "justify_items": null,
            "grid_row": null,
            "max_height": null,
            "align_content": null,
            "visibility": null,
            "align_self": null,
            "height": null,
            "min_height": null,
            "padding": null,
            "grid_auto_rows": null,
            "grid_gap": null,
            "max_width": null,
            "order": null,
            "_view_module_version": "1.2.0",
            "grid_template_areas": null,
            "object_position": null,
            "object_fit": null,
            "grid_auto_columns": null,
            "margin": null,
            "display": null,
            "left": null
          }
        },
        "4a2596dfa9044053bd4d10cea0f67dd9": {
          "model_module": "@jupyter-widgets/controls",
          "model_name": "DescriptionStyleModel",
          "state": {
            "_view_name": "StyleView",
            "_model_name": "DescriptionStyleModel",
            "description_width": "",
            "_view_module": "@jupyter-widgets/base",
            "_model_module_version": "1.5.0",
            "_view_count": null,
            "_view_module_version": "1.2.0",
            "_model_module": "@jupyter-widgets/controls"
          }
        },
        "ed76d6a726354f35b43de3ca98d571e0": {
          "model_module": "@jupyter-widgets/base",
          "model_name": "LayoutModel",
          "state": {
            "_view_name": "LayoutView",
            "grid_template_rows": null,
            "right": null,
            "justify_content": null,
            "_view_module": "@jupyter-widgets/base",
            "overflow": null,
            "_model_module_version": "1.2.0",
            "_view_count": null,
            "flex_flow": null,
            "width": null,
            "min_width": null,
            "border": null,
            "align_items": null,
            "bottom": null,
            "_model_module": "@jupyter-widgets/base",
            "top": null,
            "grid_column": null,
            "overflow_y": null,
            "overflow_x": null,
            "grid_auto_flow": null,
            "grid_area": null,
            "grid_template_columns": null,
            "flex": null,
            "_model_name": "LayoutModel",
            "justify_items": null,
            "grid_row": null,
            "max_height": null,
            "align_content": null,
            "visibility": null,
            "align_self": null,
            "height": null,
            "min_height": null,
            "padding": null,
            "grid_auto_rows": null,
            "grid_gap": null,
            "max_width": null,
            "order": null,
            "_view_module_version": "1.2.0",
            "grid_template_areas": null,
            "object_position": null,
            "object_fit": null,
            "grid_auto_columns": null,
            "margin": null,
            "display": null,
            "left": null
          }
        }
      }
    }
  },
  "cells": [
    {
      "cell_type": "code",
      "metadata": {
        "id": "6E11q1711nmO",
        "colab": {
          "base_uri": "https://localhost:8080/"
        },
        "outputId": "56f56482-1c04-498e-943e-556f9931f39f"
      },
      "source": [
        "!pip install selenium\n",
        "!apt-get update\n",
        "!apt install chromium-chromedriver\n",
        "!cp /usr/lib/chromium-browser/chromedriver /usr/bin"
      ],
      "execution_count": 1,
      "outputs": [
        {
          "output_type": "stream",
          "text": [
            "Collecting selenium\n",
            "\u001b[?25l  Downloading https://files.pythonhosted.org/packages/80/d6/4294f0b4bce4de0abf13e17190289f9d0613b0a44e5dd6a7f5ca98459853/selenium-3.141.0-py2.py3-none-any.whl (904kB)\n",
            "\r\u001b[K     |▍                               | 10kB 14.9MB/s eta 0:00:01\r\u001b[K     |▊                               | 20kB 9.6MB/s eta 0:00:01\r\u001b[K     |█                               | 30kB 8.7MB/s eta 0:00:01\r\u001b[K     |█▌                              | 40kB 7.0MB/s eta 0:00:01\r\u001b[K     |█▉                              | 51kB 5.3MB/s eta 0:00:01\r\u001b[K     |██▏                             | 61kB 4.7MB/s eta 0:00:01\r\u001b[K     |██▌                             | 71kB 5.3MB/s eta 0:00:01\r\u001b[K     |███                             | 81kB 5.6MB/s eta 0:00:01\r\u001b[K     |███▎                            | 92kB 6.0MB/s eta 0:00:01\r\u001b[K     |███▋                            | 102kB 6.0MB/s eta 0:00:01\r\u001b[K     |████                            | 112kB 6.0MB/s eta 0:00:01\r\u001b[K     |████▍                           | 122kB 6.0MB/s eta 0:00:01\r\u001b[K     |████▊                           | 133kB 6.0MB/s eta 0:00:01\r\u001b[K     |█████                           | 143kB 6.0MB/s eta 0:00:01\r\u001b[K     |█████▍                          | 153kB 6.0MB/s eta 0:00:01\r\u001b[K     |█████▉                          | 163kB 6.0MB/s eta 0:00:01\r\u001b[K     |██████▏                         | 174kB 6.0MB/s eta 0:00:01\r\u001b[K     |██████▌                         | 184kB 6.0MB/s eta 0:00:01\r\u001b[K     |██████▉                         | 194kB 6.0MB/s eta 0:00:01\r\u001b[K     |███████▎                        | 204kB 6.0MB/s eta 0:00:01\r\u001b[K     |███████▋                        | 215kB 6.0MB/s eta 0:00:01\r\u001b[K     |████████                        | 225kB 6.0MB/s eta 0:00:01\r\u001b[K     |████████▎                       | 235kB 6.0MB/s eta 0:00:01\r\u001b[K     |████████▊                       | 245kB 6.0MB/s eta 0:00:01\r\u001b[K     |█████████                       | 256kB 6.0MB/s eta 0:00:01\r\u001b[K     |█████████▍                      | 266kB 6.0MB/s eta 0:00:01\r\u001b[K     |█████████▉                      | 276kB 6.0MB/s eta 0:00:01\r\u001b[K     |██████████▏                     | 286kB 6.0MB/s eta 0:00:01\r\u001b[K     |██████████▌                     | 296kB 6.0MB/s eta 0:00:01\r\u001b[K     |██████████▉                     | 307kB 6.0MB/s eta 0:00:01\r\u001b[K     |███████████▎                    | 317kB 6.0MB/s eta 0:00:01\r\u001b[K     |███████████▋                    | 327kB 6.0MB/s eta 0:00:01\r\u001b[K     |████████████                    | 337kB 6.0MB/s eta 0:00:01\r\u001b[K     |████████████▎                   | 348kB 6.0MB/s eta 0:00:01\r\u001b[K     |████████████▊                   | 358kB 6.0MB/s eta 0:00:01\r\u001b[K     |█████████████                   | 368kB 6.0MB/s eta 0:00:01\r\u001b[K     |█████████████▍                  | 378kB 6.0MB/s eta 0:00:01\r\u001b[K     |█████████████▊                  | 389kB 6.0MB/s eta 0:00:01\r\u001b[K     |██████████████▏                 | 399kB 6.0MB/s eta 0:00:01\r\u001b[K     |██████████████▌                 | 409kB 6.0MB/s eta 0:00:01\r\u001b[K     |██████████████▉                 | 419kB 6.0MB/s eta 0:00:01\r\u001b[K     |███████████████▏                | 430kB 6.0MB/s eta 0:00:01\r\u001b[K     |███████████████▋                | 440kB 6.0MB/s eta 0:00:01\r\u001b[K     |████████████████                | 450kB 6.0MB/s eta 0:00:01\r\u001b[K     |████████████████▎               | 460kB 6.0MB/s eta 0:00:01\r\u001b[K     |████████████████▋               | 471kB 6.0MB/s eta 0:00:01\r\u001b[K     |█████████████████               | 481kB 6.0MB/s eta 0:00:01\r\u001b[K     |█████████████████▍              | 491kB 6.0MB/s eta 0:00:01\r\u001b[K     |█████████████████▊              | 501kB 6.0MB/s eta 0:00:01\r\u001b[K     |██████████████████▏             | 512kB 6.0MB/s eta 0:00:01\r\u001b[K     |██████████████████▌             | 522kB 6.0MB/s eta 0:00:01\r\u001b[K     |██████████████████▉             | 532kB 6.0MB/s eta 0:00:01\r\u001b[K     |███████████████████▏            | 542kB 6.0MB/s eta 0:00:01\r\u001b[K     |███████████████████▋            | 552kB 6.0MB/s eta 0:00:01\r\u001b[K     |████████████████████            | 563kB 6.0MB/s eta 0:00:01\r\u001b[K     |████████████████████▎           | 573kB 6.0MB/s eta 0:00:01\r\u001b[K     |████████████████████▋           | 583kB 6.0MB/s eta 0:00:01\r\u001b[K     |█████████████████████           | 593kB 6.0MB/s eta 0:00:01\r\u001b[K     |█████████████████████▍          | 604kB 6.0MB/s eta 0:00:01\r\u001b[K     |█████████████████████▊          | 614kB 6.0MB/s eta 0:00:01\r\u001b[K     |██████████████████████          | 624kB 6.0MB/s eta 0:00:01\r\u001b[K     |██████████████████████▌         | 634kB 6.0MB/s eta 0:00:01\r\u001b[K     |██████████████████████▉         | 645kB 6.0MB/s eta 0:00:01\r\u001b[K     |███████████████████████▏        | 655kB 6.0MB/s eta 0:00:01\r\u001b[K     |███████████████████████▌        | 665kB 6.0MB/s eta 0:00:01\r\u001b[K     |████████████████████████        | 675kB 6.0MB/s eta 0:00:01\r\u001b[K     |████████████████████████▎       | 686kB 6.0MB/s eta 0:00:01\r\u001b[K     |████████████████████████▋       | 696kB 6.0MB/s eta 0:00:01\r\u001b[K     |█████████████████████████       | 706kB 6.0MB/s eta 0:00:01\r\u001b[K     |█████████████████████████▍      | 716kB 6.0MB/s eta 0:00:01\r\u001b[K     |█████████████████████████▊      | 727kB 6.0MB/s eta 0:00:01\r\u001b[K     |██████████████████████████      | 737kB 6.0MB/s eta 0:00:01\r\u001b[K     |██████████████████████████▍     | 747kB 6.0MB/s eta 0:00:01\r\u001b[K     |██████████████████████████▉     | 757kB 6.0MB/s eta 0:00:01\r\u001b[K     |███████████████████████████▏    | 768kB 6.0MB/s eta 0:00:01\r\u001b[K     |███████████████████████████▌    | 778kB 6.0MB/s eta 0:00:01\r\u001b[K     |████████████████████████████    | 788kB 6.0MB/s eta 0:00:01\r\u001b[K     |████████████████████████████▎   | 798kB 6.0MB/s eta 0:00:01\r\u001b[K     |████████████████████████████▋   | 808kB 6.0MB/s eta 0:00:01\r\u001b[K     |█████████████████████████████   | 819kB 6.0MB/s eta 0:00:01\r\u001b[K     |█████████████████████████████▍  | 829kB 6.0MB/s eta 0:00:01\r\u001b[K     |█████████████████████████████▊  | 839kB 6.0MB/s eta 0:00:01\r\u001b[K     |██████████████████████████████  | 849kB 6.0MB/s eta 0:00:01\r\u001b[K     |██████████████████████████████▍ | 860kB 6.0MB/s eta 0:00:01\r\u001b[K     |██████████████████████████████▉ | 870kB 6.0MB/s eta 0:00:01\r\u001b[K     |███████████████████████████████▏| 880kB 6.0MB/s eta 0:00:01\r\u001b[K     |███████████████████████████████▌| 890kB 6.0MB/s eta 0:00:01\r\u001b[K     |███████████████████████████████▉| 901kB 6.0MB/s eta 0:00:01\r\u001b[K     |████████████████████████████████| 911kB 6.0MB/s \n",
            "\u001b[?25hRequirement already satisfied: urllib3 in /usr/local/lib/python3.7/dist-packages (from selenium) (1.24.3)\n",
            "Installing collected packages: selenium\n",
            "Successfully installed selenium-3.141.0\n",
            "Get:1 http://security.ubuntu.com/ubuntu bionic-security InRelease [88.7 kB]\n",
            "Get:2 https://cloud.r-project.org/bin/linux/ubuntu bionic-cran40/ InRelease [3,626 B]\n",
            "Ign:3 https://developer.download.nvidia.com/compute/cuda/repos/ubuntu1804/x86_64  InRelease\n",
            "Get:4 http://ppa.launchpad.net/c2d4u.team/c2d4u4.0+/ubuntu bionic InRelease [15.9 kB]\n",
            "Hit:5 http://archive.ubuntu.com/ubuntu bionic InRelease\n",
            "Ign:6 https://developer.download.nvidia.com/compute/machine-learning/repos/ubuntu1804/x86_64  InRelease\n",
            "Get:7 https://developer.download.nvidia.com/compute/cuda/repos/ubuntu1804/x86_64  Release [697 B]\n",
            "Hit:8 https://developer.download.nvidia.com/compute/machine-learning/repos/ubuntu1804/x86_64  Release\n",
            "Get:9 https://developer.download.nvidia.com/compute/cuda/repos/ubuntu1804/x86_64  Release.gpg [836 B]\n",
            "Get:10 http://archive.ubuntu.com/ubuntu bionic-updates InRelease [88.7 kB]\n",
            "Hit:11 http://ppa.launchpad.net/cran/libgit2/ubuntu bionic InRelease\n",
            "Get:12 http://security.ubuntu.com/ubuntu bionic-security/main amd64 Packages [2,119 kB]\n",
            "Get:13 http://ppa.launchpad.net/deadsnakes/ppa/ubuntu bionic InRelease [15.9 kB]\n",
            "Get:14 http://archive.ubuntu.com/ubuntu bionic-backports InRelease [74.6 kB]\n",
            "Get:15 http://security.ubuntu.com/ubuntu bionic-security/multiverse amd64 Packages [24.7 kB]\n",
            "Get:16 http://security.ubuntu.com/ubuntu bionic-security/universe amd64 Packages [1,410 kB]\n",
            "Get:17 http://security.ubuntu.com/ubuntu bionic-security/restricted amd64 Packages [399 kB]\n",
            "Get:18 http://ppa.launchpad.net/graphics-drivers/ppa/ubuntu bionic InRelease [21.3 kB]\n",
            "Get:19 https://cloud.r-project.org/bin/linux/ubuntu bionic-cran40/ Packages [53.9 kB]\n",
            "Ign:21 https://developer.download.nvidia.com/compute/cuda/repos/ubuntu1804/x86_64  Packages\n",
            "Get:21 https://developer.download.nvidia.com/compute/cuda/repos/ubuntu1804/x86_64  Packages [763 kB]\n",
            "Get:22 http://ppa.launchpad.net/c2d4u.team/c2d4u4.0+/ubuntu bionic/main Sources [1,759 kB]\n",
            "Get:23 http://archive.ubuntu.com/ubuntu bionic-updates/restricted amd64 Packages [429 kB]\n",
            "Get:24 http://archive.ubuntu.com/ubuntu bionic-updates/main amd64 Packages [2,550 kB]\n",
            "Get:25 http://ppa.launchpad.net/c2d4u.team/c2d4u4.0+/ubuntu bionic/main amd64 Packages [900 kB]\n",
            "Get:26 http://archive.ubuntu.com/ubuntu bionic-updates/universe amd64 Packages [2,181 kB]\n",
            "Get:27 http://archive.ubuntu.com/ubuntu bionic-updates/multiverse amd64 Packages [31.6 kB]\n",
            "Get:28 http://ppa.launchpad.net/deadsnakes/ppa/ubuntu bionic/main amd64 Packages [40.8 kB]\n",
            "Get:29 http://ppa.launchpad.net/graphics-drivers/ppa/ubuntu bionic/main amd64 Packages [47.2 kB]\n",
            "Fetched 13.0 MB in 4s (3,179 kB/s)\n",
            "Reading package lists... Done\n",
            "Reading package lists... Done\n",
            "Building dependency tree       \n",
            "Reading state information... Done\n",
            "The following package was automatically installed and is no longer required:\n",
            "  libnvidia-common-460\n",
            "Use 'apt autoremove' to remove it.\n",
            "The following additional packages will be installed:\n",
            "  chromium-browser chromium-browser-l10n chromium-codecs-ffmpeg-extra\n",
            "Suggested packages:\n",
            "  webaccounts-chromium-extension unity-chromium-extension\n",
            "The following NEW packages will be installed:\n",
            "  chromium-browser chromium-browser-l10n chromium-chromedriver\n",
            "  chromium-codecs-ffmpeg-extra\n",
            "0 upgraded, 4 newly installed, 0 to remove and 69 not upgraded.\n",
            "Need to get 86.6 MB of archives.\n",
            "After this operation, 300 MB of additional disk space will be used.\n",
            "Get:1 http://archive.ubuntu.com/ubuntu bionic-updates/universe amd64 chromium-codecs-ffmpeg-extra amd64 90.0.4430.72-0ubuntu0.18.04.1 [1,128 kB]\n",
            "Get:2 http://archive.ubuntu.com/ubuntu bionic-updates/universe amd64 chromium-browser amd64 90.0.4430.72-0ubuntu0.18.04.1 [76.9 MB]\n",
            "Get:3 http://archive.ubuntu.com/ubuntu bionic-updates/universe amd64 chromium-browser-l10n all 90.0.4430.72-0ubuntu0.18.04.1 [3,858 kB]\n",
            "Get:4 http://archive.ubuntu.com/ubuntu bionic-updates/universe amd64 chromium-chromedriver amd64 90.0.4430.72-0ubuntu0.18.04.1 [4,743 kB]\n",
            "Fetched 86.6 MB in 4s (23.4 MB/s)\n",
            "Selecting previously unselected package chromium-codecs-ffmpeg-extra.\n",
            "(Reading database ... 160690 files and directories currently installed.)\n",
            "Preparing to unpack .../chromium-codecs-ffmpeg-extra_90.0.4430.72-0ubuntu0.18.04.1_amd64.deb ...\n",
            "Unpacking chromium-codecs-ffmpeg-extra (90.0.4430.72-0ubuntu0.18.04.1) ...\n",
            "Selecting previously unselected package chromium-browser.\n",
            "Preparing to unpack .../chromium-browser_90.0.4430.72-0ubuntu0.18.04.1_amd64.deb ...\n",
            "Unpacking chromium-browser (90.0.4430.72-0ubuntu0.18.04.1) ...\n",
            "Selecting previously unselected package chromium-browser-l10n.\n",
            "Preparing to unpack .../chromium-browser-l10n_90.0.4430.72-0ubuntu0.18.04.1_all.deb ...\n",
            "Unpacking chromium-browser-l10n (90.0.4430.72-0ubuntu0.18.04.1) ...\n",
            "Selecting previously unselected package chromium-chromedriver.\n",
            "Preparing to unpack .../chromium-chromedriver_90.0.4430.72-0ubuntu0.18.04.1_amd64.deb ...\n",
            "Unpacking chromium-chromedriver (90.0.4430.72-0ubuntu0.18.04.1) ...\n",
            "Setting up chromium-codecs-ffmpeg-extra (90.0.4430.72-0ubuntu0.18.04.1) ...\n",
            "Setting up chromium-browser (90.0.4430.72-0ubuntu0.18.04.1) ...\n",
            "update-alternatives: using /usr/bin/chromium-browser to provide /usr/bin/x-www-browser (x-www-browser) in auto mode\n",
            "update-alternatives: using /usr/bin/chromium-browser to provide /usr/bin/gnome-www-browser (gnome-www-browser) in auto mode\n",
            "Setting up chromium-chromedriver (90.0.4430.72-0ubuntu0.18.04.1) ...\n",
            "Setting up chromium-browser-l10n (90.0.4430.72-0ubuntu0.18.04.1) ...\n",
            "Processing triggers for man-db (2.8.3-2ubuntu0.1) ...\n",
            "Processing triggers for hicolor-icon-theme (0.17-2) ...\n",
            "Processing triggers for mime-support (3.60ubuntu1) ...\n",
            "Processing triggers for libc-bin (2.27-3ubuntu1.2) ...\n",
            "/sbin/ldconfig.real: /usr/local/lib/python3.7/dist-packages/ideep4py/lib/libmkldnn.so.0 is not a symbolic link\n",
            "\n",
            "cp: '/usr/lib/chromium-browser/chromedriver' and '/usr/bin/chromedriver' are the same file\n"
          ],
          "name": "stdout"
        }
      ]
    },
    {
      "cell_type": "code",
      "metadata": {
        "id": "YRt5yEXxA-jW"
      },
      "source": [
        "import sys\n",
        "sys.path.insert(0,'/usr/lib/chromium-browser/chromedriver')\n",
        "from selenium import webdriver\n",
        "from tqdm.notebook import tqdm\n",
        "import pandas\n",
        "import json\n",
        "import pprint"
      ],
      "execution_count": 2,
      "outputs": []
    },
    {
      "cell_type": "code",
      "metadata": {
        "id": "DTfvdy_gBCBU"
      },
      "source": [
        "chrome_options = webdriver.ChromeOptions()\n",
        "chrome_options.add_argument('--headless')\n",
        "chrome_options.add_argument('--no-sandbox')\n",
        "chrome_options.add_argument('--disable-dev-shm-usage')"
      ],
      "execution_count": 3,
      "outputs": []
    },
    {
      "cell_type": "code",
      "metadata": {
        "id": "0XTdpHOS-Ef2"
      },
      "source": [
        "import pandas as pd\n",
        "import io"
      ],
      "execution_count": 4,
      "outputs": []
    },
    {
      "cell_type": "code",
      "metadata": {
        "id": "2iblyTQg-HEI"
      },
      "source": [
        "df = pd.read_csv('result-csv.csv')"
      ],
      "execution_count": 10,
      "outputs": []
    },
    {
      "cell_type": "code",
      "metadata": {
        "colab": {
          "base_uri": "https://localhost:8080/",
          "height": 279
        },
        "id": "oDGP7COz_Hqc",
        "outputId": "2f8df67b-ad84-4f64-e0e6-aae487d29690"
      },
      "source": [
        "df.head()"
      ],
      "execution_count": 11,
      "outputs": [
        {
          "output_type": "execute_result",
          "data": {
            "text/html": [
              "<div>\n",
              "<style scoped>\n",
              "    .dataframe tbody tr th:only-of-type {\n",
              "        vertical-align: middle;\n",
              "    }\n",
              "\n",
              "    .dataframe tbody tr th {\n",
              "        vertical-align: top;\n",
              "    }\n",
              "\n",
              "    .dataframe thead th {\n",
              "        text-align: right;\n",
              "    }\n",
              "</style>\n",
              "<table border=\"1\" class=\"dataframe\">\n",
              "  <thead>\n",
              "    <tr style=\"text-align: right;\">\n",
              "      <th></th>\n",
              "      <th>ID</th>\n",
              "      <th>NAICS2017_CODE</th>\n",
              "      <th>level</th>\n",
              "      <th>NAICS2017_NAME</th>\n",
              "      <th>NAICS2017_DESCRIPTION</th>\n",
              "    </tr>\n",
              "  </thead>\n",
              "  <tbody>\n",
              "    <tr>\n",
              "      <th>0</th>\n",
              "      <td>1</td>\n",
              "      <td>11</td>\n",
              "      <td>2</td>\n",
              "      <td>Agriculture, Forestry, Fishing and Hunting</td>\n",
              "      <td>\\nThe Agriculture, Forestry, Fishing and Hunti...</td>\n",
              "    </tr>\n",
              "    <tr>\n",
              "      <th>1</th>\n",
              "      <td>2</td>\n",
              "      <td>21</td>\n",
              "      <td>2</td>\n",
              "      <td>Mining, Quarrying, and Oil and Gas Extraction</td>\n",
              "      <td>\\nThe Mining, Quarrying, and Oil and Gas Extra...</td>\n",
              "    </tr>\n",
              "    <tr>\n",
              "      <th>2</th>\n",
              "      <td>3</td>\n",
              "      <td>22</td>\n",
              "      <td>2</td>\n",
              "      <td>Utilities</td>\n",
              "      <td>\\nThe Utilities sector comprises establishment...</td>\n",
              "    </tr>\n",
              "    <tr>\n",
              "      <th>3</th>\n",
              "      <td>4</td>\n",
              "      <td>23</td>\n",
              "      <td>2</td>\n",
              "      <td>Construction</td>\n",
              "      <td>\\nThe Construction sector comprises establishm...</td>\n",
              "    </tr>\n",
              "    <tr>\n",
              "      <th>4</th>\n",
              "      <td>5</td>\n",
              "      <td>31</td>\n",
              "      <td>2</td>\n",
              "      <td>Manufacturing</td>\n",
              "      <td>The Manufacturing sector comprises establishme...</td>\n",
              "    </tr>\n",
              "  </tbody>\n",
              "</table>\n",
              "</div>"
            ],
            "text/plain": [
              "   ID  ...                              NAICS2017_DESCRIPTION\n",
              "0   1  ...  \\nThe Agriculture, Forestry, Fishing and Hunti...\n",
              "1   2  ...  \\nThe Mining, Quarrying, and Oil and Gas Extra...\n",
              "2   3  ...  \\nThe Utilities sector comprises establishment...\n",
              "3   4  ...  \\nThe Construction sector comprises establishm...\n",
              "4   5  ...  The Manufacturing sector comprises establishme...\n",
              "\n",
              "[5 rows x 5 columns]"
            ]
          },
          "metadata": {
            "tags": []
          },
          "execution_count": 11
        }
      ]
    },
    {
      "cell_type": "code",
      "metadata": {
        "colab": {
          "base_uri": "https://localhost:8080/"
        },
        "id": "Ic7p8IUu5m3v",
        "outputId": "98612927-323d-4b25-b36b-d427caa23396"
      },
      "source": [
        "df.info()"
      ],
      "execution_count": 12,
      "outputs": [
        {
          "output_type": "stream",
          "text": [
            "<class 'pandas.core.frame.DataFrame'>\n",
            "RangeIndex: 2200 entries, 0 to 2199\n",
            "Data columns (total 5 columns):\n",
            " #   Column                 Non-Null Count  Dtype \n",
            "---  ------                 --------------  ----- \n",
            " 0   ID                     2200 non-null   int64 \n",
            " 1   NAICS2017_CODE         2200 non-null   int64 \n",
            " 2   level                  2200 non-null   int64 \n",
            " 3   NAICS2017_NAME         2200 non-null   object\n",
            " 4   NAICS2017_DESCRIPTION  2045 non-null   object\n",
            "dtypes: int64(3), object(2)\n",
            "memory usage: 86.1+ KB\n"
          ],
          "name": "stdout"
        }
      ]
    },
    {
      "cell_type": "code",
      "metadata": {
        "id": "x6rThyoI5gaX"
      },
      "source": [
        "df6 = df[df[\"level\"] == 6].reset_index()"
      ],
      "execution_count": 23,
      "outputs": []
    },
    {
      "cell_type": "code",
      "metadata": {
        "colab": {
          "base_uri": "https://localhost:8080/"
        },
        "id": "8egjroSg582X",
        "outputId": "6b19e56c-61d3-4a94-a9fb-c0d20219fe0e"
      },
      "source": [
        "df6.info()"
      ],
      "execution_count": 24,
      "outputs": [
        {
          "output_type": "stream",
          "text": [
            "<class 'pandas.core.frame.DataFrame'>\n",
            "RangeIndex: 1057 entries, 0 to 1056\n",
            "Data columns (total 6 columns):\n",
            " #   Column                 Non-Null Count  Dtype \n",
            "---  ------                 --------------  ----- \n",
            " 0   index                  1057 non-null   int64 \n",
            " 1   ID                     1057 non-null   int64 \n",
            " 2   NAICS2017_CODE         1057 non-null   int64 \n",
            " 3   level                  1057 non-null   int64 \n",
            " 4   NAICS2017_NAME         1057 non-null   object\n",
            " 5   NAICS2017_DESCRIPTION  1057 non-null   object\n",
            "dtypes: int64(4), object(2)\n",
            "memory usage: 49.7+ KB\n"
          ],
          "name": "stdout"
        }
      ]
    },
    {
      "cell_type": "code",
      "metadata": {
        "colab": {
          "base_uri": "https://localhost:8080/",
          "height": 94
        },
        "id": "9-078OzF8MXH",
        "outputId": "39b86b26-044c-461c-e693-33d0246a56aa"
      },
      "source": [
        "df6[df6[\"NAICS2017_CODE\"] == 114111]"
      ],
      "execution_count": 51,
      "outputs": [
        {
          "output_type": "execute_result",
          "data": {
            "text/html": [
              "<div>\n",
              "<style scoped>\n",
              "    .dataframe tbody tr th:only-of-type {\n",
              "        vertical-align: middle;\n",
              "    }\n",
              "\n",
              "    .dataframe tbody tr th {\n",
              "        vertical-align: top;\n",
              "    }\n",
              "\n",
              "    .dataframe thead th {\n",
              "        text-align: right;\n",
              "    }\n",
              "</style>\n",
              "<table border=\"1\" class=\"dataframe\">\n",
              "  <thead>\n",
              "    <tr style=\"text-align: right;\">\n",
              "      <th></th>\n",
              "      <th>index</th>\n",
              "      <th>ID</th>\n",
              "      <th>NAICS2017_CODE</th>\n",
              "      <th>level</th>\n",
              "      <th>NAICS2017_NAME</th>\n",
              "      <th>NAICS2017_DESCRIPTION</th>\n",
              "    </tr>\n",
              "  </thead>\n",
              "  <tbody>\n",
              "    <tr>\n",
              "      <th>52</th>\n",
              "      <td>1195</td>\n",
              "      <td>1196</td>\n",
              "      <td>114111</td>\n",
              "      <td>6</td>\n",
              "      <td>Finfish Fishing</td>\n",
              "      <td>This U.S. industry comprises establishments pr...</td>\n",
              "    </tr>\n",
              "  </tbody>\n",
              "</table>\n",
              "</div>"
            ],
            "text/plain": [
              "    index  ...                              NAICS2017_DESCRIPTION\n",
              "52   1195  ...  This U.S. industry comprises establishments pr...\n",
              "\n",
              "[1 rows x 6 columns]"
            ]
          },
          "metadata": {
            "tags": []
          },
          "execution_count": 51
        }
      ]
    },
    {
      "cell_type": "code",
      "metadata": {
        "colab": {
          "base_uri": "https://localhost:8080/"
        },
        "id": "hR8WFmi96Pn8",
        "outputId": "28f3567d-5cea-4753-a108-8c6676409c5b"
      },
      "source": [
        "df6[\"NAICS2017_CODE\"][52]"
      ],
      "execution_count": 52,
      "outputs": [
        {
          "output_type": "execute_result",
          "data": {
            "text/plain": [
              "114111"
            ]
          },
          "metadata": {
            "tags": []
          },
          "execution_count": 52
        }
      ]
    },
    {
      "cell_type": "code",
      "metadata": {
        "colab": {
          "base_uri": "https://localhost:8080/",
          "height": 35
        },
        "id": "pDxHj2oI6uDM",
        "outputId": "d697f000-69c3-455d-bc08-a3c14e2bb8b4"
      },
      "source": [
        "\"https://www.naics.com/naics-code-description/?code=\" + str(df6[\"NAICS2017_CODE\"][52])"
      ],
      "execution_count": 53,
      "outputs": [
        {
          "output_type": "execute_result",
          "data": {
            "application/vnd.google.colaboratory.intrinsic+json": {
              "type": "string"
            },
            "text/plain": [
              "'https://www.naics.com/naics-code-description/?code=114111'"
            ]
          },
          "metadata": {
            "tags": []
          },
          "execution_count": 53
        }
      ]
    },
    {
      "cell_type": "code",
      "metadata": {
        "id": "D6MLvqs9BIzI",
        "colab": {
          "base_uri": "https://localhost:8080/"
        },
        "outputId": "05ff98cb-a50d-4783-bbc3-59ff070dcb8e"
      },
      "source": [
        "wd = webdriver.Chrome('chromedriver',chrome_options=chrome_options)\n",
        "wd.get(\"https://www.naics.com/naics-code-description/?code=\" + str(df6[\"NAICS2017_CODE\"][52]))"
      ],
      "execution_count": 54,
      "outputs": [
        {
          "output_type": "stream",
          "text": [
            "/usr/local/lib/python3.7/dist-packages/ipykernel_launcher.py:1: DeprecationWarning: use options instead of chrome_options\n",
            "  \"\"\"Entry point for launching an IPython kernel.\n"
          ],
          "name": "stderr"
        }
      ]
    },
    {
      "cell_type": "code",
      "metadata": {
        "id": "iBCZSC4dWfKW",
        "colab": {
          "base_uri": "https://localhost:8080/",
          "height": 356
        },
        "outputId": "7cebdaf0-6d33-4e8c-e447-a88e84357a87"
      },
      "source": [
        "wd.save_screenshot('screenshot.png')\n",
        "\n",
        "%pylab inline\n",
        "import matplotlib.pyplot as plt\n",
        "import matplotlib.image as mpimg\n",
        "img=mpimg.imread('/content/screenshot.png')\n",
        "imgplot = plt.imshow(img)\n",
        "plt.show()"
      ],
      "execution_count": 55,
      "outputs": [
        {
          "output_type": "stream",
          "text": [
            "Populating the interactive namespace from numpy and matplotlib\n"
          ],
          "name": "stdout"
        },
        {
          "output_type": "stream",
          "text": [
            "/usr/local/lib/python3.7/dist-packages/IPython/core/magics/pylab.py:161: UserWarning: pylab import has clobbered these variables: ['text', 'title']\n",
            "`%matplotlib` prevents importing * from pylab and numpy\n",
            "  \"\\n`%matplotlib` prevents importing * from pylab and numpy\"\n"
          ],
          "name": "stderr"
        },
        {
          "output_type": "display_data",
          "data": {
            "image/png": "[encoded data removed]",
            "text/plain": [
              "<Figure size 432x288 with 1 Axes>"
            ]
          },
          "metadata": {
            "tags": [],
            "needs_background": "light"
          }
        }
      ]
    },
    {
      "cell_type": "code",
      "metadata": {
        "id": "WFuRVKIdbWN3",
        "colab": {
          "base_uri": "https://localhost:8080/"
        },
        "outputId": "17f0c329-8c20-437d-88b7-77b22ce3df8b"
      },
      "source": [
        "title = wd.find_elements_by_css_selector(\".sixDigit\")[0].text\n",
        "print(title)"
      ],
      "execution_count": 56,
      "outputs": [
        {
          "output_type": "stream",
          "text": [
            "114111 - Finfish Fishing\n"
          ],
          "name": "stdout"
        }
      ]
    },
    {
      "cell_type": "code",
      "metadata": {
        "colab": {
          "base_uri": "https://localhost:8080/"
        },
        "id": "szIUDPadAS16",
        "outputId": "f87ba763-324d-49b7-c5fe-ae8daed00218"
      },
      "source": [
        "text = wd.find_elements_by_css_selector(\"div > div > p\")\n",
        "print(text[0].text)"
      ],
      "execution_count": 57,
      "outputs": [
        {
          "output_type": "stream",
          "text": [
            "This U.S. industry comprises establishments primarily engaged in the commercial catching or taking of finfish (e.g., bluefish, salmon, trout, tuna) from their natural habitat.\n",
            "\n",
            "Cross-References. Establishments primarily engaged in--\n"
          ],
          "name": "stdout"
        }
      ]
    },
    {
      "cell_type": "code",
      "metadata": {
        "id": "UFmXTKll7sYt"
      },
      "source": [
        "elements = wd.find_elements_by_css_selector(\"table.table-striped tr td:nth-child(4)\")\n"
      ],
      "execution_count": 58,
      "outputs": []
    },
    {
      "cell_type": "code",
      "metadata": {
        "colab": {
          "base_uri": "https://localhost:8080/"
        },
        "id": "jlnczr5N7tzP",
        "outputId": "82a47112-b594-423b-ff33-cd77725d9ee2"
      },
      "source": [
        "len(elements)"
      ],
      "execution_count": 59,
      "outputs": [
        {
          "output_type": "execute_result",
          "data": {
            "text/plain": [
              "38"
            ]
          },
          "metadata": {
            "tags": []
          },
          "execution_count": 59
        }
      ]
    },
    {
      "cell_type": "code",
      "metadata": {
        "colab": {
          "base_uri": "https://localhost:8080/"
        },
        "id": "SoiZNGKX7VUA",
        "outputId": "eb498ace-9a4d-4fcc-b017-199b0ac08206"
      },
      "source": [
        "print(elements[10].text)"
      ],
      "execution_count": 60,
      "outputs": [
        {
          "output_type": "stream",
          "text": [
            "Grouper fishing\n"
          ],
          "name": "stdout"
        }
      ]
    },
    {
      "cell_type": "code",
      "metadata": {
        "id": "1J2xAL6qcj9-",
        "colab": {
          "base_uri": "https://localhost:8080/",
          "height": 586,
          "referenced_widgets": [
            "5e4a71b882a44772a67829f175ed4e09",
            "142a5719b0d04bc9a6a80ad9eb8c77a7",
            "d63220b564f34aea9f262505d10ba8b8",
            "1f7d1fb2e85348aebd96732d56ed301b",
            "969c8affed2c41d387073c7057b5900c",
            "8725b7404d6a4b51a021272723a699ec",
            "4a2596dfa9044053bd4d10cea0f67dd9",
            "ed76d6a726354f35b43de3ca98d571e0"
          ]
        },
        "outputId": "fb4b2d48-6dca-480c-911b-1faed699517d"
      },
      "source": [
        "import pprint\n",
        "naics = []\n",
        "entries = []\n",
        "i = 0\n",
        "for codice in tqdm(df6['NAICS2017_CODE']):\n",
        "  i = i + 1\n",
        "  text = \"\"\n",
        "  title = \"\"\n",
        "  try:\n",
        "    wd.get(\"https://www.naics.com/naics-code-description/?code=\" + str(codice))\n",
        "    if (len(wd.find_elements_by_css_selector(\".sixDigit\")) > 0):\n",
        "      title = wd.find_elements_by_css_selector(\".sixDigit\")[0].text\n",
        "    if (len(wd.find_elements_by_css_selector(\"div > div > p\")) > 0):\n",
        "      text = wd.find_elements_by_css_selector(\"div > div > p\")[0].text\n",
        "    elements = wd.find_elements_by_css_selector(\"table.table-striped tr td:nth-child(4)\")\n",
        "    for element in elements:\n",
        "      entries.append({'codice': codice, 'entry': element.text})\n",
        "  except Exception as e:\n",
        "    print(e)\n",
        "    pass\n",
        "  naics.append({'codice': codice,\n",
        "                'title': title,\n",
        "                'text': text})\n",
        "\n",
        "len(naics)\n",
        "pprint.pprint(naics[0:5])"
      ],
      "execution_count": 63,
      "outputs": [
        {
          "output_type": "display_data",
          "data": {
            "application/vnd.jupyter.widget-view+json": {
              "model_id": "5e4a71b882a44772a67829f175ed4e09",
              "version_minor": 0,
              "version_major": 2
            },
            "text/plain": [
              "HBox(children=(FloatProgress(value=0.0, max=1057.0), HTML(value='')))"
            ]
          },
          "metadata": {
            "tags": []
          }
        },
        {
          "output_type": "stream",
          "text": [
            "\n",
            "[{'codice': 111110,\n",
            "  'text': 'This industry comprises establishments primarily engaged in growing '\n",
            "          'soybeans and/or producing soybean seeds.\\n'\n",
            "          '\\n'\n",
            "          'Cross-References.',\n",
            "  'title': '111110 - Soybean Farming'},\n",
            " {'codice': 111120,\n",
            "  'text': 'This industry comprises establishments primarily engaged in growing '\n",
            "          'fibrous oilseed producing plants and/or producing oilseed seeds, '\n",
            "          'such as sunflower, safflower, flax, rape, canola, and sesame.\\n'\n",
            "          '\\n'\n",
            "          'Cross-References. Establishments primarily engaged in--',\n",
            "  'title': '111120 - Oilseed (except Soybean) Farming'},\n",
            " {'codice': 111130,\n",
            "  'text': 'This industry comprises establishments primarily engaged in growing '\n",
            "          'dry peas, beans, and/or lentils.\\n'\n",
            "          '\\n'\n",
            "          'Cross-References.',\n",
            "  'title': '111130 - Dry Pea and Bean Farming'},\n",
            " {'codice': 111140,\n",
            "  'text': 'This industry comprises establishments primarily engaged in growing '\n",
            "          'wheat and/or producing wheat seeds.\\n'\n",
            "          '\\n'\n",
            "          'Cross-References.',\n",
            "  'title': '111140 - Wheat Farming'},\n",
            " {'codice': 111150,\n",
            "  'text': 'This industry comprises establishments primarily engaged in growing '\n",
            "          'corn (except sweet corn) and/or producing corn seeds.\\n'\n",
            "          '\\n'\n",
            "          'Cross-References. Establishments primarily engaged in--',\n",
            "  'title': '111150 - Corn Farming'}]\n"
          ],
          "name": "stdout"
        }
      ]
    },
    {
      "cell_type": "code",
      "metadata": {
        "id": "MumFgyNypoBo",
        "colab": {
          "base_uri": "https://localhost:8080/",
          "height": 195
        },
        "outputId": "c0cd3fd2-a98c-4be8-e0bf-a5265a0c8a38"
      },
      "source": [
        "import pandas as pd\n",
        "df_naics = pd.DataFrame(naics)\n",
        "df_naics.set_index(\"codice\")\n",
        "df_naics.head()"
      ],
      "execution_count": 65,
      "outputs": [
        {
          "output_type": "execute_result",
          "data": {
            "text/html": [
              "<div>\n",
              "<style scoped>\n",
              "    .dataframe tbody tr th:only-of-type {\n",
              "        vertical-align: middle;\n",
              "    }\n",
              "\n",
              "    .dataframe tbody tr th {\n",
              "        vertical-align: top;\n",
              "    }\n",
              "\n",
              "    .dataframe thead th {\n",
              "        text-align: right;\n",
              "    }\n",
              "</style>\n",
              "<table border=\"1\" class=\"dataframe\">\n",
              "  <thead>\n",
              "    <tr style=\"text-align: right;\">\n",
              "      <th></th>\n",
              "      <th>codice</th>\n",
              "      <th>title</th>\n",
              "      <th>text</th>\n",
              "    </tr>\n",
              "  </thead>\n",
              "  <tbody>\n",
              "    <tr>\n",
              "      <th>0</th>\n",
              "      <td>111110</td>\n",
              "      <td>111110 - Soybean Farming</td>\n",
              "      <td>This industry comprises establishments primari...</td>\n",
              "    </tr>\n",
              "    <tr>\n",
              "      <th>1</th>\n",
              "      <td>111120</td>\n",
              "      <td>111120 - Oilseed (except Soybean) Farming</td>\n",
              "      <td>This industry comprises establishments primari...</td>\n",
              "    </tr>\n",
              "    <tr>\n",
              "      <th>2</th>\n",
              "      <td>111130</td>\n",
              "      <td>111130 - Dry Pea and Bean Farming</td>\n",
              "      <td>This industry comprises establishments primari...</td>\n",
              "    </tr>\n",
              "    <tr>\n",
              "      <th>3</th>\n",
              "      <td>111140</td>\n",
              "      <td>111140 - Wheat Farming</td>\n",
              "      <td>This industry comprises establishments primari...</td>\n",
              "    </tr>\n",
              "    <tr>\n",
              "      <th>4</th>\n",
              "      <td>111150</td>\n",
              "      <td>111150 - Corn Farming</td>\n",
              "      <td>This industry comprises establishments primari...</td>\n",
              "    </tr>\n",
              "  </tbody>\n",
              "</table>\n",
              "</div>"
            ],
            "text/plain": [
              "   codice  ...                                               text\n",
              "0  111110  ...  This industry comprises establishments primari...\n",
              "1  111120  ...  This industry comprises establishments primari...\n",
              "2  111130  ...  This industry comprises establishments primari...\n",
              "3  111140  ...  This industry comprises establishments primari...\n",
              "4  111150  ...  This industry comprises establishments primari...\n",
              "\n",
              "[5 rows x 3 columns]"
            ]
          },
          "metadata": {
            "tags": []
          },
          "execution_count": 65
        }
      ]
    },
    {
      "cell_type": "code",
      "metadata": {
        "id": "_tFbyPwcrNY4",
        "colab": {
          "base_uri": "https://localhost:8080/"
        },
        "outputId": "34d3f952-3df1-4b1d-8853-51ce9a02d080"
      },
      "source": [
        "df_naics.info()"
      ],
      "execution_count": 66,
      "outputs": [
        {
          "output_type": "stream",
          "text": [
            "<class 'pandas.core.frame.DataFrame'>\n",
            "RangeIndex: 1057 entries, 0 to 1056\n",
            "Data columns (total 3 columns):\n",
            " #   Column  Non-Null Count  Dtype \n",
            "---  ------  --------------  ----- \n",
            " 0   codice  1057 non-null   int64 \n",
            " 1   title   1057 non-null   object\n",
            " 2   text    1057 non-null   object\n",
            "dtypes: int64(1), object(2)\n",
            "memory usage: 24.9+ KB\n"
          ],
          "name": "stdout"
        }
      ]
    },
    {
      "cell_type": "code",
      "metadata": {
        "id": "3lUw4-_BrQDh"
      },
      "source": [
        "df_naics.to_csv('naics.csv')"
      ],
      "execution_count": 67,
      "outputs": []
    },
    {
      "cell_type": "code",
      "metadata": {
        "id": "x6T4RWqVCN1L",
        "colab": {
          "base_uri": "https://localhost:8080/",
          "height": 195
        },
        "outputId": "fd37393a-ea74-483e-93d4-a7400c2d2e79"
      },
      "source": [
        "import pandas as pd\n",
        "df_entries = pd.DataFrame(entries)\n",
        "df_entries.head()"
      ],
      "execution_count": 70,
      "outputs": [
        {
          "output_type": "execute_result",
          "data": {
            "text/html": [
              "<div>\n",
              "<style scoped>\n",
              "    .dataframe tbody tr th:only-of-type {\n",
              "        vertical-align: middle;\n",
              "    }\n",
              "\n",
              "    .dataframe tbody tr th {\n",
              "        vertical-align: top;\n",
              "    }\n",
              "\n",
              "    .dataframe thead th {\n",
              "        text-align: right;\n",
              "    }\n",
              "</style>\n",
              "<table border=\"1\" class=\"dataframe\">\n",
              "  <thead>\n",
              "    <tr style=\"text-align: right;\">\n",
              "      <th></th>\n",
              "      <th>codice</th>\n",
              "      <th>entry</th>\n",
              "    </tr>\n",
              "  </thead>\n",
              "  <tbody>\n",
              "    <tr>\n",
              "      <th>0</th>\n",
              "      <td>111110</td>\n",
              "      <td>Soybean farming, field and seed production</td>\n",
              "    </tr>\n",
              "    <tr>\n",
              "      <th>1</th>\n",
              "      <td>111120</td>\n",
              "      <td>Canola farming, field and seed production</td>\n",
              "    </tr>\n",
              "    <tr>\n",
              "      <th>2</th>\n",
              "      <td>111120</td>\n",
              "      <td>Flaxseed farming, field and seed production</td>\n",
              "    </tr>\n",
              "    <tr>\n",
              "      <th>3</th>\n",
              "      <td>111120</td>\n",
              "      <td>Mustard seed farming, field and seed production</td>\n",
              "    </tr>\n",
              "    <tr>\n",
              "      <th>4</th>\n",
              "      <td>111120</td>\n",
              "      <td>Oilseed farming (except soybean), field and se...</td>\n",
              "    </tr>\n",
              "  </tbody>\n",
              "</table>\n",
              "</div>"
            ],
            "text/plain": [
              "   codice                                              entry\n",
              "0  111110         Soybean farming, field and seed production\n",
              "1  111120          Canola farming, field and seed production\n",
              "2  111120        Flaxseed farming, field and seed production\n",
              "3  111120    Mustard seed farming, field and seed production\n",
              "4  111120  Oilseed farming (except soybean), field and se..."
            ]
          },
          "metadata": {
            "tags": []
          },
          "execution_count": 70
        }
      ]
    },
    {
      "cell_type": "code",
      "metadata": {
        "colab": {
          "base_uri": "https://localhost:8080/"
        },
        "id": "PquXv-8O-EV7",
        "outputId": "90a61872-c27f-492f-ee7c-1ce6dc8254f1"
      },
      "source": [
        "df_entries.info()"
      ],
      "execution_count": 71,
      "outputs": [
        {
          "output_type": "stream",
          "text": [
            "<class 'pandas.core.frame.DataFrame'>\n",
            "RangeIndex: 20057 entries, 0 to 20056\n",
            "Data columns (total 2 columns):\n",
            " #   Column  Non-Null Count  Dtype \n",
            "---  ------  --------------  ----- \n",
            " 0   codice  20057 non-null  int64 \n",
            " 1   entry   20057 non-null  object\n",
            "dtypes: int64(1), object(1)\n",
            "memory usage: 313.5+ KB\n"
          ],
          "name": "stdout"
        }
      ]
    },
    {
      "cell_type": "code",
      "metadata": {
        "id": "8TcJIQTh-GGs"
      },
      "source": [
        "df_naics.to_csv('entries.csv')"
      ],
      "execution_count": 72,
      "outputs": []
    },
    {
      "cell_type": "code",
      "metadata": {
        "id": "2kho9YPEBrRH"
      },
      "source": [
        ""
      ],
      "execution_count": null,
      "outputs": []
    }
  ]
}