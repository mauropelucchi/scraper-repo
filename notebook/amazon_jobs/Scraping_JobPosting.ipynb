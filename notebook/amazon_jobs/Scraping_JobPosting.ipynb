{
  "nbformat": 4,
  "nbformat_minor": 0,
  "metadata": {
    "colab": {
      "name": "Scraping_JobPosting.ipynb",
      "provenance": [],
      "collapsed_sections": [],
      "toc_visible": true
    },
    "kernelspec": {
      "name": "python3",
      "display_name": "Python 3"
    }
  },
  "cells": [
    {
      "cell_type": "markdown",
      "metadata": {
        "id": "VYfg3I_fSt6e"
      },
      "source": [
        "# WebScraping with Selenium\n",
        "\n",
        "This notebook shows how use selenium to scrape data from a company web site to collect web job posting.\n",
        "The scope is only to understand the capabilities of web scraping and prepare a dataset for academic purporse.\n",
        "\n",
        "Let’s begin writing our scraper!\n",
        "\n",
        "We will first install important modules and packages for our Notebook\n",
        "\n",
        "\n",
        "*   Selenium\n",
        "*   Chromium-chromedriver\n",
        "\n"
      ]
    },
    {
      "cell_type": "code",
      "metadata": {
        "id": "6E11q1711nmO"
      },
      "source": [
        "!pip install selenium\n",
        "!apt-get update\n",
        "!apt install chromium-chromedriver\n",
        "!cp /usr/lib/chromium-browser/chromedriver /usr/bin"
      ],
      "execution_count": null,
      "outputs": []
    },
    {
      "cell_type": "markdown",
      "metadata": {
        "id": "kuhZcDh4UHYp"
      },
      "source": [
        "And now we will import some modules on our Notebook\n",
        "\n",
        "\n",
        "1.   sys: to setup the path of chrome driver\n",
        "2.   selenium: to emulate the user behaviour\n",
        "3.   pandas: to work with data\n",
        "4.   tqdm: to show a progress bar in our notebook\n",
        "5.   json: to work with json format\n",
        "\n",
        "\n",
        "\n"
      ]
    },
    {
      "cell_type": "code",
      "metadata": {
        "id": "YRt5yEXxA-jW"
      },
      "source": [
        "import sys\n",
        "sys.path.insert(0,'/usr/lib/chromium-browser/chromedriver')\n",
        "from selenium import webdriver\n",
        "from tqdm import tqdm_notebook as tqdm\n",
        "import pandas\n",
        "import json\n",
        "import pprint"
      ],
      "execution_count": null,
      "outputs": []
    },
    {
      "cell_type": "markdown",
      "metadata": {
        "id": "ksyefP35VQc2"
      },
      "source": [
        "First we need to set the options for the ghost browser.\n",
        "The most important is `--headless` because we are in a \"cloud\" notebook. In our local notebook we can remove the `--headless` option.  \n"
      ]
    },
    {
      "cell_type": "code",
      "metadata": {
        "id": "DTfvdy_gBCBU"
      },
      "source": [
        "chrome_options = webdriver.ChromeOptions()\n",
        "chrome_options.add_argument('--headless')\n",
        "chrome_options.add_argument('--no-sandbox')\n",
        "chrome_options.add_argument('--disable-dev-shm-usage')\n",
        "chrome_options.add_argument(\"window-size=1900,800\")\n",
        "chrome_options.add_argument(\"--enable-javascript\")\n",
        "chrome_options.add_argument(\"user-agent=Mozilla/5.0 (Windows NT 10.0; Win64; x64) AppleWebKit/537.36 (KHTML, like Gecko) Chrome/88.0.4324.150 Safari/537.36\")"
      ],
      "execution_count": null,
      "outputs": []
    },
    {
      "cell_type": "markdown",
      "metadata": {
        "id": "0DpumOn7VoFw"
      },
      "source": [
        "`webdriver` is the most importa object in Selenium.\n",
        "With `webdriver` we can start the phantom browser, emulate the user navigation and scrape our data. \n",
        "\n",
        "Let’s now create a new instance of google chrome.\n",
        "\n",
        "\n",
        "We will navitage to page by a `get` request. With http we can do a get or a post (or others but they are not important for us): https://www.w3schools.com/tags/ref_httpmethods.asp \n",
        "\n",
        "\n",
        "\n",
        "```\n",
        "wd.get(\"https://www.amazon.jobs/en/search?base_query=&loc_query=Germany&latitude=52.51605&longitude=13.37691&loc_group_id=&invalid_location=false&country=DEU&city=&region=&county=\")\n",
        "```\n",
        "\n"
      ]
    },
    {
      "cell_type": "code",
      "metadata": {
        "id": "D6MLvqs9BIzI",
        "colab": {
          "base_uri": "https://localhost:8080/"
        },
        "outputId": "331dc2e0-d414-4f94-f974-cb4c7725505f"
      },
      "source": [
        "wd = webdriver.Chrome('chromedriver',chrome_options=chrome_options)\n",
        "wd.get(\"https://www.amazon.jobs/en/search?base_query=&loc_query=Germany&latitude=52.51605&longitude=13.37691&loc_group_id=&invalid_location=false&country=DEU&city=&region=&county=\")"
      ],
      "execution_count": null,
      "outputs": [
        {
          "output_type": "stream",
          "text": [
            "/usr/local/lib/python3.7/dist-packages/ipykernel_launcher.py:1: DeprecationWarning: use options instead of chrome_options\n",
            "  \"\"\"Entry point for launching an IPython kernel.\n"
          ],
          "name": "stderr"
        }
      ]
    },
    {
      "cell_type": "markdown",
      "metadata": {
        "id": "p3Sbfud-WbV-"
      },
      "source": [
        "Take a look to the screenshot from our phantom browser.\n",
        "\n",
        "Note:\n",
        "- la language and the locale: It is en_US!\n",
        "- the screen ratio: is it the same of our notebook?"
      ]
    },
    {
      "cell_type": "code",
      "metadata": {
        "id": "iBCZSC4dWfKW",
        "colab": {
          "base_uri": "https://localhost:8080/",
          "height": 210
        },
        "outputId": "2678e6c6-b23e-407e-c318-f48ae8a8ea44"
      },
      "source": [
        "wd.save_screenshot('screenshot.png')\n",
        "\n",
        "%pylab inline\n",
        "import matplotlib.pyplot as plt\n",
        "import matplotlib.image as mpimg\n",
        "img=mpimg.imread('/content/screenshot.png')\n",
        "imgplot = plt.imshow(img)\n",
        "plt.show()"
      ],
      "execution_count": null,
      "outputs": [
        {
          "output_type": "stream",
          "text": [
            "Populating the interactive namespace from numpy and matplotlib\n"
          ],
          "name": "stdout"
        },
        {
          "output_type": "display_data",
          "data": {
            "image/png": "[encoded data removed]",
            "text/plain": [
              "<Figure size 432x288 with 1 Axes>"
            ]
          },
          "metadata": {
            "tags": [],
            "needs_background": "light"
          }
        }
      ]
    },
    {
      "cell_type": "markdown",
      "metadata": {
        "id": "kRr2IAQsa1s_"
      },
      "source": [
        "Let's try to extract some information from the page\n",
        "\n",
        "\n",
        "\n",
        "`title` contains the title of our page.\n",
        "\n",
        "\n"
      ]
    },
    {
      "cell_type": "code",
      "metadata": {
        "id": "X033nUzra6uq",
        "colab": {
          "base_uri": "https://localhost:8080/"
        },
        "outputId": "2c566e72-537b-4e14-de3a-3869a38ffab9"
      },
      "source": [
        "print(wd.title)"
      ],
      "execution_count": null,
      "outputs": [
        {
          "output_type": "stream",
          "text": [
            "Job search | Amazon.jobs\n"
          ],
          "name": "stdout"
        }
      ]
    },
    {
      "cell_type": "markdown",
      "metadata": {
        "id": "zK7Cf_mradiL"
      },
      "source": [
        "### How do we extract the values inside a page with CSS Selector?\n",
        "\n",
        "Selenium has a method called `find_elements_by_css_selector`.\n",
        "\n",
        "We will pass our CSS Selector into this method and get a list of selenium elements. Once we have the element, we can extract the text inside it using the `text` function."
      ]
    },
    {
      "cell_type": "code",
      "metadata": {
        "id": "WFuRVKIdbWN3",
        "colab": {
          "base_uri": "https://localhost:8080/"
        },
        "outputId": "93c6c9ea-69f8-481d-80d5-4d2c308fa9d8"
      },
      "source": [
        "list_postings = wd.find_elements_by_css_selector(\".job-title\")\n",
        "print(len(list_postings))"
      ],
      "execution_count": null,
      "outputs": [
        {
          "output_type": "stream",
          "text": [
            "10\n"
          ],
          "name": "stdout"
        }
      ]
    },
    {
      "cell_type": "code",
      "metadata": {
        "id": "cRPP5xUrbwcE",
        "colab": {
          "base_uri": "https://localhost:8080/"
        },
        "outputId": "71432a40-2336-4c77-8afe-e5ef6ae9ad20"
      },
      "source": [
        "print(list_postings[0].text)"
      ],
      "execution_count": null,
      "outputs": [
        {
          "output_type": "stream",
          "text": [
            "Kundenservice im Homeoffice (m/w/d) – Teilzeit (20 Std./Woche)\n"
          ],
          "name": "stdout"
        }
      ]
    },
    {
      "cell_type": "markdown",
      "metadata": {
        "id": "A1ETBqlPcQhl"
      },
      "source": [
        "# Extract the job postings list\n",
        "\n",
        "Let's begin to download the list of companies.\n",
        "\n",
        "The list of companies is defined by the css selection rule\n",
        "`.job`\n",
        "\n"
      ]
    },
    {
      "cell_type": "code",
      "metadata": {
        "id": "_V1hNO9ZcJy6",
        "colab": {
          "base_uri": "https://localhost:8080/"
        },
        "outputId": "ebe11db2-f461-4e16-be06-b9c60b3b8146"
      },
      "source": [
        "list_postings = wd.find_elements_by_css_selector(\".job-tile\")\n",
        "print(len(list_postings))"
      ],
      "execution_count": null,
      "outputs": [
        {
          "output_type": "stream",
          "text": [
            "10\n"
          ],
          "name": "stdout"
        }
      ]
    },
    {
      "cell_type": "markdown",
      "metadata": {
        "id": "k_fSFWX0cktI"
      },
      "source": [
        "Gread! We find 10 items!\n",
        "\n",
        "Now, we will extract the attribute from each single element.\n",
        "The scope is to create one dict for each item in the list with the attribute:\n",
        "\n",
        "\n",
        "1. occupation title\n",
        "2. description\n",
        "3. url\n",
        "4. location\n",
        "\n",
        "\n"
      ]
    },
    {
      "cell_type": "code",
      "metadata": {
        "id": "1J2xAL6qcj9-",
        "colab": {
          "base_uri": "https://localhost:8080/"
        },
        "outputId": "dab5ad7a-081c-499b-aa23-f51520cffb61"
      },
      "source": [
        "import pprint\n",
        "import time\n",
        "items = []\n",
        "for item in list_postings:\n",
        "    title = item.find_elements_by_css_selector(\".job-title\")[0].text\n",
        "    url = item.find_elements_by_css_selector(\".job-link\")[0].get_attribute(\"href\")\n",
        "    location = item.find_elements_by_css_selector(\".location-and-id\")[0].text\n",
        "    description = item.find_elements_by_css_selector(\".description\")[0].text\n",
        "    job_id = item.find_elements_by_css_selector(\".job\")[0].get_attribute(\"data-job-id\")\n",
        "\n",
        "    items.append({'title': title,\n",
        "                  'url': url,\n",
        "                  'location': location,\n",
        "                  'description': description,\n",
        "                  'job_id': job_id})\n",
        "\n",
        "\n",
        "pprint.pprint(items[0:5])"
      ],
      "execution_count": null,
      "outputs": [
        {
          "output_type": "stream",
          "text": [
            "[{'description': 'Rolle: Kundenservice im Homeoffice (m/w/d)Job Typ: 20 '\n",
            "                 'Stunden Teilzeit mit Vollzeitstunden in der Hochsaison '\n",
            "                 '(Details unten)Ort: Deutschland - bei Dir zu Hause!Amazon '\n",
            "                 'VCC GmbHKarl-Liebknecht-Str. 510178 BerlinDeutschlandDeine '\n",
            "                 'Herausforderung. Dein Team. D...Read more',\n",
            "  'job_id': 'SF210055424',\n",
            "  'location': 'DEU, Standortuebergreifend | Job ID: SF210055424',\n",
            "  'title': 'Kundenservice im Homeoffice (m/w/d) – Teilzeit (20 Std./Woche)',\n",
            "  'url': 'https://www.amazon.jobs/en/jobs/SF210055424/kundenservice-im-homeoffice-m-w-d-teilzeit-20-std-woche'},\n",
            " {'description': 'Das Social Media Team in Regensburg sucht zum '\n",
            "                 'nächstmöglichen Zeitpunkt mehrere Social Media Specialists '\n",
            "                 '(m/w/d)Amazon Deutschland Services GmbHIm Gewerbepark D 55 '\n",
            "                 '(Main Entrance: D 65)93059 RegensburgDeutschlandDas Social '\n",
            "                 'Media Customer Service (SMCS) Pr...Read more',\n",
            "  'job_id': 'SF210055414',\n",
            "  'location': 'DEU, BY, Regensburg | Job ID: SF210055414',\n",
            "  'title': 'Social Media Customer Service Associate (w/m/d) Teilzeit (20 '\n",
            "           'Stunden)',\n",
            "  'url': 'https://www.amazon.jobs/en/jobs/SF210055414/social-media-customer-service-associate-w-m-d-teilzeit-20-stunden'},\n",
            " {'description': 'Das Social Media Team in Regensburg sucht zum '\n",
            "                 'nächstmöglichen Zeitpunkt mehrere Social Media Specialists '\n",
            "                 '(m/w/d)Amazon Deutschland Services GmbHIm Gewerbepark D 55 '\n",
            "                 '(Main Entrance: D 65)93059 RegensburgDeutschlandDas Social '\n",
            "                 'Media Customer Service (SMCS) Pr...Read more',\n",
            "  'job_id': 'SF210055413',\n",
            "  'location': 'DEU, BY, Regensburg | Job ID: SF210055413',\n",
            "  'title': 'Social Media Customer Service Associate (w/m/d) Vollzeit',\n",
            "  'url': 'https://www.amazon.jobs/en/jobs/SF210055413/social-media-customer-service-associate-w-m-d-vollzeit'},\n",
            " {'description': 'Kundenservicemitarbeiter*innen im Homeoffice (m/w/d) – '\n",
            "                 'Vollzeit (40 Std./Woche)Amazon VCC GmbHKarl-Liebknecht-Str. '\n",
            "                 '510178 BerlinDeutschlandDeine Herausforderung. Dein Team. '\n",
            "                 'Dein Job. Täglich werden weltweit Millionen von Produkten zu '\n",
            "                 'Amazon Kunden*innen g...Read more',\n",
            "  'job_id': 'SF210055410',\n",
            "  'location': 'DEU, Standortuebergreifend | Job ID: SF210055410',\n",
            "  'title': 'Kundenservice im Homeoffice (m/w/d) – Vollzeit (40 Std./Woche)',\n",
            "  'url': 'https://www.amazon.jobs/en/jobs/SF210055410/kundenservice-im-homeoffice-m-w-d-vollzeit-40-std-woche'},\n",
            " {'description': 'Kundenservicemitarbeiter*innen / Quereinsteiger '\n",
            "                 'Kundenservice / Call Center / Customer Service (m/w/d) – '\n",
            "                 'Berlin – 32-Stunden Woche (deutschsprachiger Support)Amazon '\n",
            "                 'CS Berlin GmbHKarl-Liebknecht-Str. 510178 '\n",
            "                 'BerlinDeutschlandDeine Herausforderung. Dein Tea...Read more',\n",
            "  'job_id': 'SF210054326',\n",
            "  'location': 'DEU, BE, Berlin | Job ID: SF210054326',\n",
            "  'title': 'Kundenservice (m/w/d) – Berlin – deutsprachiger Support – '\n",
            "           '32-Stunden Woche',\n",
            "  'url': 'https://www.amazon.jobs/en/jobs/SF210054326/kundenservice-m-w-d-berlin-deutsprachiger-support-32-stunden-woche'}]\n"
          ],
          "name": "stdout"
        }
      ]
    },
    {
      "cell_type": "code",
      "metadata": {
        "id": "d0-ystf3VAY0",
        "colab": {
          "base_uri": "https://localhost:8080/"
        },
        "outputId": "02eebab9-ed34-4263-ffe5-547eb7aa3360"
      },
      "source": [
        "len(items)"
      ],
      "execution_count": null,
      "outputs": [
        {
          "output_type": "execute_result",
          "data": {
            "text/plain": [
              "10"
            ]
          },
          "metadata": {
            "tags": []
          },
          "execution_count": 11
        }
      ]
    },
    {
      "cell_type": "code",
      "metadata": {
        "id": "4Kms5IduWGgX",
        "colab": {
          "base_uri": "https://localhost:8080/"
        },
        "outputId": "8a73ebaf-5748-49f3-b217-d50577bf1649"
      },
      "source": [
        "import pprint\n",
        "import time\n",
        "items = []\n",
        "wd = webdriver.Chrome('chromedriver',chrome_options=chrome_options)\n",
        "\n",
        "for page in range(0, 10):\n",
        "  offset = 10 * page\n",
        "  wd.get(f\"https://www.amazon.jobs/en/search?offset={offset}&result_limit=10&sort=relevant&distanceType=Mi&radius=24km&latitude=52.51605&longitude=13.37691&loc_group_id=&loc_query=Germany&base_query=&city=&country=DEU&region=&county=&query_options=&\")\n",
        "  time.sleep(2)\n",
        "  list_postings = wd.find_elements_by_css_selector(\".job-tile\")\n",
        "  for item in list_postings:\n",
        "    title = item.find_elements_by_css_selector(\".job-title\")[0].text\n",
        "    url = item.find_elements_by_css_selector(\".job-link\")[0].get_attribute(\"href\")\n",
        "    location = item.find_elements_by_css_selector(\".location-and-id\")[0].text\n",
        "    description = item.find_elements_by_css_selector(\".description\")[0].text\n",
        "    job_id = item.find_elements_by_css_selector(\".job\")[0].get_attribute(\"data-job-id\")\n",
        "\n",
        "    items.append({'title': title,\n",
        "                  'url': url,\n",
        "                  'location': location,\n",
        "                  'description': description,\n",
        "                  'job_id': job_id})"
      ],
      "execution_count": null,
      "outputs": [
        {
          "output_type": "stream",
          "text": [
            "/usr/local/lib/python3.7/dist-packages/ipykernel_launcher.py:4: DeprecationWarning: use options instead of chrome_options\n",
            "  after removing the cwd from sys.path.\n"
          ],
          "name": "stderr"
        }
      ]
    },
    {
      "cell_type": "code",
      "metadata": {
        "id": "HcSquyAFW6n8",
        "colab": {
          "base_uri": "https://localhost:8080/"
        },
        "outputId": "27301878-2bf4-44eb-acd4-a52f4a823e76"
      },
      "source": [
        "len(items)"
      ],
      "execution_count": null,
      "outputs": [
        {
          "output_type": "execute_result",
          "data": {
            "text/plain": [
              "100"
            ]
          },
          "metadata": {
            "tags": []
          },
          "execution_count": 13
        }
      ]
    },
    {
      "cell_type": "code",
      "metadata": {
        "id": "MYixmGBdCkDD"
      },
      "source": [
        "items_details = []\n",
        "for item in items:\n",
        "  print(item['url'])\n",
        "  wd.get(item['url'])\n",
        "  time.sleep(2)\n",
        "  wd.save_screenshot('screenshot.png')\n",
        "  description = wd.find_elements_by_css_selector(\".section\")[0].text\n",
        "  items_details.append({'title': item['title'],\n",
        "                        'url': item['url'],\n",
        "                        'location': ['location'],\n",
        "                        'description': description,\n",
        "                        'job_id': item['job_id']})"
      ],
      "execution_count": null,
      "outputs": []
    },
    {
      "cell_type": "code",
      "metadata": {
        "colab": {
          "base_uri": "https://localhost:8080/"
        },
        "id": "vcEnbxPOFFjC",
        "outputId": "87838378-555c-445a-e66b-39ef570fd6fa"
      },
      "source": [
        "len(items_details)"
      ],
      "execution_count": null,
      "outputs": [
        {
          "output_type": "execute_result",
          "data": {
            "text/plain": [
              "100"
            ]
          },
          "metadata": {
            "tags": []
          },
          "execution_count": 15
        }
      ]
    },
    {
      "cell_type": "markdown",
      "metadata": {
        "id": "TqxsicNNovfy"
      },
      "source": [
        "# Pandas and data processing\n",
        "\n",
        "**Well!**\n",
        "We're starting to see another amazing library for working with data!\n",
        "\n",
        "It's **pandas**: *Python library for data analysis*.\n",
        "\n",
        "Basically, with pandas we can manipulate a data set or a historical series in Python.\n",
        "\n",
        "For now, we start to give a couple of concepts.\n",
        "\n",
        "Pandas is based on two types of data: **Series** and **DataFrame**:\n",
        "- `Series` represents a list of data\n",
        "- `DataFrame` represent a data set in tabular format\n",
        "\n",
        "Each column of a `DataFrame` is a `Series`.\n",
        "\n",
        "We can create a `DataFrame` using the `pd.DataFrame` method by passing our dictionary as an input parameter.\n",
        "\n",
        "A `DataFrame` pandas can be easily exported in *CSV*, *Excel*, ...\n",
        "\n",
        "For more information about `Pandas` see\n",
        "\n",
        "https://pandas.pydata.org/getting_started.html\n"
      ]
    },
    {
      "cell_type": "code",
      "metadata": {
        "id": "MumFgyNypoBo",
        "colab": {
          "base_uri": "https://localhost:8080/",
          "height": 204
        },
        "outputId": "ded13c0a-5fb6-4689-d29d-f484df89d77c"
      },
      "source": [
        "import pandas as pd\n",
        "ds_items = pd.DataFrame(items_details)\n",
        "ds_items.set_index(\"job_id\")\n",
        "ds_items.head()"
      ],
      "execution_count": null,
      "outputs": [
        {
          "output_type": "execute_result",
          "data": {
            "text/html": [
              "<div>\n",
              "<style scoped>\n",
              "    .dataframe tbody tr th:only-of-type {\n",
              "        vertical-align: middle;\n",
              "    }\n",
              "\n",
              "    .dataframe tbody tr th {\n",
              "        vertical-align: top;\n",
              "    }\n",
              "\n",
              "    .dataframe thead th {\n",
              "        text-align: right;\n",
              "    }\n",
              "</style>\n",
              "<table border=\"1\" class=\"dataframe\">\n",
              "  <thead>\n",
              "    <tr style=\"text-align: right;\">\n",
              "      <th></th>\n",
              "      <th>title</th>\n",
              "      <th>url</th>\n",
              "      <th>location</th>\n",
              "      <th>description</th>\n",
              "      <th>job_id</th>\n",
              "    </tr>\n",
              "  </thead>\n",
              "  <tbody>\n",
              "    <tr>\n",
              "      <th>0</th>\n",
              "      <td>Kundenservice im Homeoffice (m/w/d) – Teilzeit...</td>\n",
              "      <td>https://www.amazon.jobs/en/jobs/SF210055424/ku...</td>\n",
              "      <td>[location]</td>\n",
              "      <td>DESCRIPTION\\nRolle: Kundenservice im Homeoffic...</td>\n",
              "      <td>SF210055424</td>\n",
              "    </tr>\n",
              "    <tr>\n",
              "      <th>1</th>\n",
              "      <td>Social Media Customer Service Associate (w/m/d...</td>\n",
              "      <td>https://www.amazon.jobs/en/jobs/SF210055414/so...</td>\n",
              "      <td>[location]</td>\n",
              "      <td>DESCRIPTION\\nDas Social Media Team in Regensbu...</td>\n",
              "      <td>SF210055414</td>\n",
              "    </tr>\n",
              "    <tr>\n",
              "      <th>2</th>\n",
              "      <td>Social Media Customer Service Associate (w/m/d...</td>\n",
              "      <td>https://www.amazon.jobs/en/jobs/SF210055413/so...</td>\n",
              "      <td>[location]</td>\n",
              "      <td>DESCRIPTION\\nDas Social Media Team in Regensbu...</td>\n",
              "      <td>SF210055413</td>\n",
              "    </tr>\n",
              "    <tr>\n",
              "      <th>3</th>\n",
              "      <td>Kundenservice im Homeoffice (m/w/d) – Vollzeit...</td>\n",
              "      <td>https://www.amazon.jobs/en/jobs/SF210055410/ku...</td>\n",
              "      <td>[location]</td>\n",
              "      <td>DESCRIPTION\\nKundenservicemitarbeiter*innen im...</td>\n",
              "      <td>SF210055410</td>\n",
              "    </tr>\n",
              "    <tr>\n",
              "      <th>4</th>\n",
              "      <td>Kundenservice (m/w/d) – Berlin – deutsprachige...</td>\n",
              "      <td>https://www.amazon.jobs/en/jobs/SF210054326/ku...</td>\n",
              "      <td>[location]</td>\n",
              "      <td>DESCRIPTION\\nKundenservicemitarbeiter*innen / ...</td>\n",
              "      <td>SF210054326</td>\n",
              "    </tr>\n",
              "  </tbody>\n",
              "</table>\n",
              "</div>"
            ],
            "text/plain": [
              "                                               title  ...       job_id\n",
              "0  Kundenservice im Homeoffice (m/w/d) – Teilzeit...  ...  SF210055424\n",
              "1  Social Media Customer Service Associate (w/m/d...  ...  SF210055414\n",
              "2  Social Media Customer Service Associate (w/m/d...  ...  SF210055413\n",
              "3  Kundenservice im Homeoffice (m/w/d) – Vollzeit...  ...  SF210055410\n",
              "4  Kundenservice (m/w/d) – Berlin – deutsprachige...  ...  SF210054326\n",
              "\n",
              "[5 rows x 5 columns]"
            ]
          },
          "metadata": {
            "tags": []
          },
          "execution_count": 16
        }
      ]
    },
    {
      "cell_type": "code",
      "metadata": {
        "id": "3lUw4-_BrQDh"
      },
      "source": [
        "ds_items.to_csv('ds_items.csv')"
      ],
      "execution_count": null,
      "outputs": []
    }
  ]
}